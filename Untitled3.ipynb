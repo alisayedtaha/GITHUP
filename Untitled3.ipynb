{
 "cells": [
  {
   "cell_type": "markdown",
   "id": "012bbd55-0596-4c1c-b65d-13485870e455",
   "metadata": {},
   "source": [
    "## Author \n",
    "ALi sayed taha         \n",
    "Data Science Tools and Ecosystem"
   ]
  },
  {
   "cell_type": "markdown",
   "id": "ff05e4d4-13d6-4ae3-a6b3-a097f037e0f8",
   "metadata": {},
   "source": [
    "In this notebook, Data Science Tools and Ecosystem are summarized \n",
    "# Objectives:\n",
    "1.Data Analysis     \n",
    "2.Machine Learning Model Development   \n",
    "3-Documentation and Sharing    "
   ]
  },
  {
   "cell_type": "markdown",
   "id": "0deec853-c2c6-4a9d-a9d8-d936cb3907e7",
   "metadata": {},
   "source": [
    "some of tha popular languages that Data Scientists use are:  \n",
    "1.python    \n",
    "2.R    \n",
    "3.SQL    \n"
   ]
  },
  {
   "cell_type": "markdown",
   "id": "7de77cfb-7aba-4ba9-9994-584a1dc5163e",
   "metadata": {},
   "source": [
    "some of tha commonly used libraries used by Scientists include:  \n",
    "1.NumPy   \n",
    "2.pandas  \n",
    "3.Matplotlip  \n"
   ]
  },
  {
   "cell_type": "markdown",
   "id": "1af8dd08-a8d5-43a6-8268-195a0aa62c3a",
   "metadata": {},
   "source": [
    "| Data Science Tools |     \n",
    "| Jupyter |    \n",
    "| RStudio |    \n",
    "| Apache Zeppelin |    "
   ]
  },
  {
   "cell_type": "markdown",
   "id": "582f3df9-584e-408c-9c5d-88d6a57b4ef6",
   "metadata": {},
   "source": [
    "### Below are a few examples of evaluating arithmetic expressions in python"
   ]
  },
  {
   "cell_type": "markdown",
   "id": "4ceffb7d-108c-4383-9d03-fc9df2db7552",
   "metadata": {},
   "source": [
    "# this is a simple arithmetic expression to multiply then integers."
   ]
  },
  {
   "cell_type": "code",
   "execution_count": 20,
   "id": "1efb4a48-2935-4b98-973c-944ba1056d8e",
   "metadata": {},
   "outputs": [
    {
     "data": {
      "text/plain": [
       "17"
      ]
     },
     "execution_count": 20,
     "metadata": {},
     "output_type": "execute_result"
    }
   ],
   "source": [
    "(3*4)+5"
   ]
  },
  {
   "cell_type": "markdown",
   "id": "555841b4-6676-4360-8495-5d940967b41a",
   "metadata": {},
   "source": [
    "# This will convert 200 minutes to hours by dividing by 60 ."
   ]
  },
  {
   "cell_type": "code",
   "execution_count": 23,
   "id": "c7495de7-4ab9-44c2-97c8-ef95ae81f00c",
   "metadata": {},
   "outputs": [
    {
     "data": {
      "text/plain": [
       "3.3333333333333335"
      ]
     },
     "execution_count": 23,
     "metadata": {},
     "output_type": "execute_result"
    }
   ],
   "source": [
    "200/60"
   ]
  },
  {
   "cell_type": "code",
   "execution_count": null,
   "id": "8e04a5be-2d70-4110-8192-477aabc63b3c",
   "metadata": {},
   "outputs": [],
   "source": []
  }
 ],
 "metadata": {
  "kernelspec": {
   "display_name": "Python 3 (ipykernel)",
   "language": "python",
   "name": "python3"
  },
  "language_info": {
   "codemirror_mode": {
    "name": "ipython",
    "version": 3
   },
   "file_extension": ".py",
   "mimetype": "text/x-python",
   "name": "python",
   "nbconvert_exporter": "python",
   "pygments_lexer": "ipython3",
   "version": "3.12.7"
  }
 },
 "nbformat": 4,
 "nbformat_minor": 5
}
